{
 "cells": [
  {
   "cell_type": "code",
   "execution_count": 2,
   "id": "d2d3d97c-c205-446a-a130-1aa9961906b9",
   "metadata": {},
   "outputs": [],
   "source": [
    "import pandas as pd"
   ]
  },
  {
   "cell_type": "code",
   "execution_count": 3,
   "id": "8b6b8b0c-d3c5-43e3-9c5b-00bc83052c2a",
   "metadata": {},
   "outputs": [],
   "source": [
    "# read file\n",
    "DF = pd.read_csv(r\"E:\\College Courses\\Semester4\\Cloud Computing\\Assignments\\books.csv\")"
   ]
  },
  {
   "cell_type": "code",
   "execution_count": 7,
   "id": "2f2618dd-cc88-4bdb-9553-fd96f905f21c",
   "metadata": {},
   "outputs": [],
   "source": [
    "# clean file \n",
    "missing_values = DF.isnull().sum()\n",
    "DF.dropna(inplace=True)\n",
    "DF.drop_duplicates(inplace=True)\n",
    "harry_rows =[2, 7, 9, 10, 11, 12, 13]"
   ]
  },
  {
   "cell_type": "code",
   "execution_count": 12,
   "id": "3cf4b5ea-cac1-4ea6-adaa-7895bf491945",
   "metadata": {},
   "outputs": [
    {
     "name": "stdout",
     "output_type": "stream",
     "text": [
      "Harry Potter and the Sorcerer's Stone (Harry Potter, #1)\n",
      "491\n"
     ]
    }
   ],
   "source": [
    "#Find the most selling books within the Harry Potter series\n",
    "books_count_list= {}\n",
    "for i in harry_rows:\n",
    "    books_count_list[DF.iloc[i-1,10]] = DF.iloc[i-1,4]\n",
    "max_key = max(books_count_list, key=books_count_list.get)\n",
    "max_value = books_count_list[max_key]\n",
    "print( max_key)\n",
    "print( max_value)"
   ]
  },
  {
   "cell_type": "code",
   "execution_count": 13,
   "id": "7303583d-da2d-455f-8e47-052f1fca5dfa",
   "metadata": {},
   "outputs": [
    {
     "name": "stdout",
     "output_type": "stream",
     "text": [
      "4.497142857142857\n"
     ]
    }
   ],
   "source": [
    "#Calculate the average rating of the Harry Potter books\n",
    "average_rating = (4.44+4.53+4.46+4.37+4.53+4.61+4.54)/7\n",
    "print(average_rating)"
   ]
  }
 ],
 "metadata": {
  "kernelspec": {
   "display_name": "Python 3 (ipykernel)",
   "language": "python",
   "name": "python3"
  },
  "language_info": {
   "codemirror_mode": {
    "name": "ipython",
    "version": 3
   },
   "file_extension": ".py",
   "mimetype": "text/x-python",
   "name": "python",
   "nbconvert_exporter": "python",
   "pygments_lexer": "ipython3",
   "version": "3.11.7"
  }
 },
 "nbformat": 4,
 "nbformat_minor": 5
}
